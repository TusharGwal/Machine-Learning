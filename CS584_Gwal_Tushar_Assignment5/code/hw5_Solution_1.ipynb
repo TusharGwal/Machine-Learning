{
  "nbformat": 4,
  "nbformat_minor": 0,
  "metadata": {
    "colab": {
      "provenance": []
    },
    "kernelspec": {
      "name": "python3",
      "display_name": "Python 3"
    },
    "language_info": {
      "name": "python"
    }
  },
  "cells": [
    {
      "cell_type": "code",
      "execution_count": 2,
      "metadata": {
        "id": "rZx_eXmImRu1"
      },
      "outputs": [],
      "source": [
        "import pandas as pd\n",
        "import numpy as np\n",
        "import matplotlib.pyplot as plt\n",
        "from scipy.linalg import sqrtm"
      ]
    },
    {
      "cell_type": "code",
      "source": [
        "# Define the adjacency matrix for the graph\n",
        "adjacency_matrix = np.matrix(np.array([\n",
        "     [0, 1, 0, 0, 1, 1],\n",
        "     [1, 0, 1, 1, 0, 0],\n",
        "     [0, 1, 0, 1, 0, 0],\n",
        "     [0, 1, 1, 0, 0, 0],\n",
        "     [1, 0, 0, 0, 0, 0],\n",
        "     [1, 0, 0, 0, 0, 0]\n",
        "]))"
      ],
      "metadata": {
        "id": "TBGTKKbrxhyp"
      },
      "execution_count": 3,
      "outputs": []
    },
    {
      "cell_type": "code",
      "source": [
        "# Calculate the degree matrix\n",
        "degree_matrix = np.matrix(np.diag(np.sum(np.array(adjacency_matrix), axis=0)))\n",
        "degree_matrix"
      ],
      "metadata": {
        "colab": {
          "base_uri": "https://localhost:8080/"
        },
        "id": "x-Z8UGRhxz6o",
        "outputId": "7b3b6885-bf1b-4802-8d5f-51259d70283a"
      },
      "execution_count": 4,
      "outputs": [
        {
          "output_type": "execute_result",
          "data": {
            "text/plain": [
              "matrix([[3, 0, 0, 0, 0, 0],\n",
              "        [0, 3, 0, 0, 0, 0],\n",
              "        [0, 0, 2, 0, 0, 0],\n",
              "        [0, 0, 0, 2, 0, 0],\n",
              "        [0, 0, 0, 0, 1, 0],\n",
              "        [0, 0, 0, 0, 0, 1]])"
            ]
          },
          "metadata": {},
          "execution_count": 4
        }
      ]
    },
    {
      "cell_type": "markdown",
      "source": [
        "#1.1: *Consider a binary classification problem. Write down the initial label vector P0 for this graph where v6 has observed label 1 and v4 and v5 have observed label 2.*"
      ],
      "metadata": {
        "id": "GaBAiP6kymeQ"
      }
    },
    {
      "cell_type": "code",
      "source": [
        "# Set the initial labels for the graph\n",
        "initial_labels = np.matrix(np.array([0, 0, 0, -1, -1, 1])).T\n",
        "initial_labels"
      ],
      "metadata": {
        "colab": {
          "base_uri": "https://localhost:8080/"
        },
        "id": "nP9TbpS4ytzj",
        "outputId": "037276ad-b832-4626-e197-73d260029535"
      },
      "execution_count": 6,
      "outputs": [
        {
          "output_type": "execute_result",
          "data": {
            "text/plain": [
              "matrix([[ 0],\n",
              "        [ 0],\n",
              "        [ 0],\n",
              "        [-1],\n",
              "        [-1],\n",
              "        [ 1]])"
            ]
          },
          "metadata": {},
          "execution_count": 6
        }
      ]
    },
    {
      "cell_type": "code",
      "source": [
        "# Normalize the similarity matrix\n",
        "normalized_similarity_matrix = sqrtm(np.linalg.matrix_power(degree_matrix, -1)) @ adjacency_matrix @ sqrtm(np.linalg.matrix_power(degree_matrix, -1))"
      ],
      "metadata": {
        "id": "k8M2OS3fy3Ht"
      },
      "execution_count": 7,
      "outputs": []
    },
    {
      "cell_type": "code",
      "source": [
        "# Implement the label spreading algorithm\n",
        "def label_spread(similarity_matrix, labels, decay=0.8, max_iter=20):\n",
        "    m = 0\n",
        "    for i in range(max_iter):\n",
        "        aS = decay * similarity_matrix\n",
        "        m += np.linalg.matrix_power(aS, i) @ labels\n",
        "    aS = decay * similarity_matrix\n",
        "    final_labels = (1 - decay) * m + np.linalg.matrix_power(aS, max_iter) @ labels\n",
        "    return final_labels"
      ],
      "metadata": {
        "id": "RfyZ2snRy9Fa"
      },
      "execution_count": 8,
      "outputs": []
    },
    {
      "cell_type": "code",
      "source": [
        "# Function to get labels for nodes\n",
        "def get_labels_vector(labels):\n",
        "    labels_vector = ['' for _ in range(labels.shape[0])]\n",
        "    for i in range(labels.shape[0]):\n",
        "        if labels[i] < 0:\n",
        "            labels_vector[i] = \"label 2\"\n",
        "        elif labels[i] > 0:\n",
        "            labels_vector[i] = \"label 1\"\n",
        "        else:\n",
        "            labels_vector[i] = \"No label\"\n",
        "    return labels_vector\n",
        "\n",
        "    # Function to print labels\n",
        "def print_labels(labels_vector):\n",
        "    print(\"v1:\", str(labels_vector[0]), \"\\nv2:\", labels_vector[1], \"\\nv3:\", labels_vector[2])"
      ],
      "metadata": {
        "id": "7r-synsMzDy8"
      },
      "execution_count": 9,
      "outputs": []
    },
    {
      "cell_type": "markdown",
      "source": [
        "#1.2: *Perform 1 iteration of the label spreading algorithm with the decay parameter α = 0.8 and determine the node labels for the unlabeled nodes v1, v2, and v3, i.e., compute P1 and provide the labels l1, l2, and l3 after 1 iteration.*"
      ],
      "metadata": {
        "id": "UJ12s0VBzOWa"
      }
    },
    {
      "cell_type": "code",
      "source": [
        "#Perform 1 iteration of the label spreading algorithm\n",
        "labels_after_1_iteration = label_spread(normalized_similarity_matrix, initial_labels, 0.8, 1)\n",
        "labels_vector_1 = get_labels_vector(labels_after_1_iteration)\n",
        "print_labels(labels_vector_1)"
      ],
      "metadata": {
        "colab": {
          "base_uri": "https://localhost:8080/"
        },
        "id": "Pc2vNTkjzRsf",
        "outputId": "b7da97c6-e438-45d1-c3f1-ceac45d88d8e"
      },
      "execution_count": 12,
      "outputs": [
        {
          "output_type": "stream",
          "name": "stdout",
          "text": [
            "v1: No label \n",
            "v2: label 2 \n",
            "v3: label 2\n"
          ]
        }
      ]
    },
    {
      "cell_type": "markdown",
      "source": [
        "#1.3: *Perform 2 iterations of the label spreading algorithm with the decay parameter α = 0.8 and determine the node labels for the unlabeled nodes v1, v2, and v3, i.e., compute P2 and provide the labels l1, l2, and l3 after 2 iterations.*"
      ],
      "metadata": {
        "id": "Uu1ELCRqz3A8"
      }
    },
    {
      "cell_type": "code",
      "source": [
        "#Perform 2 iterations of the label spreading algorithm\n",
        "labels_after_2_iterations = label_spread(normalized_similarity_matrix, initial_labels, 0.8, 2)\n",
        "labels_vector_2 = get_labels_vector(labels_after_2_iterations)\n",
        "print_labels(labels_vector_2)"
      ],
      "metadata": {
        "colab": {
          "base_uri": "https://localhost:8080/"
        },
        "id": "lqiWPStlz4-M",
        "outputId": "43a6522a-2d10-43f7-e0c3-29843cd00b0a"
      },
      "execution_count": 13,
      "outputs": [
        {
          "output_type": "stream",
          "name": "stdout",
          "text": [
            "v1: label 2 \n",
            "v2: label 2 \n",
            "v3: label 2\n"
          ]
        }
      ]
    },
    {
      "cell_type": "markdown",
      "source": [
        "#1.4: *Perform infinite iterations of the label spreading algorithm with the decay parameter α = 0.8 and determine the node labels for the unlabeled nodes v1, v2, and v3, i.e., compute P∞ and provide the labels l1, l2, and l3 after infinite iterations.*"
      ],
      "metadata": {
        "id": "3KvGYdOx0Ck2"
      }
    },
    {
      "cell_type": "code",
      "source": [
        "#Perform infinite iterations of the label spreading algorithm\n",
        "labels_after_infinite_iterations = label_spread(normalized_similarity_matrix, initial_labels, 0.8, 10000)\n",
        "labels_vector_infinite = get_labels_vector(labels_after_infinite_iterations)\n",
        "print_labels(labels_vector_infinite)"
      ],
      "metadata": {
        "colab": {
          "base_uri": "https://localhost:8080/"
        },
        "id": "H8IfTsiH0Fkl",
        "outputId": "76b0165a-f2d4-4c8a-aec9-8e5ae91c08fc"
      },
      "execution_count": 14,
      "outputs": [
        {
          "output_type": "stream",
          "name": "stdout",
          "text": [
            "v1: label 2 \n",
            "v2: label 2 \n",
            "v3: label 2\n"
          ]
        }
      ]
    },
    {
      "cell_type": "markdown",
      "source": [
        "We will verify convergence through the utilization of the following formula:\n",
        "\n",
        "F∗=  (𝐼−𝛼𝑆)−1  * Y"
      ],
      "metadata": {
        "id": "Zt8IBsAl0Uxk"
      }
    },
    {
      "cell_type": "code",
      "source": [
        "# Confirm convergence\n",
        "convergence_check = (1 - 0.8) * np.linalg.matrix_power((np.identity(normalized_similarity_matrix.shape[0]) - 0.8 * normalized_similarity_matrix), -1) @ initial_labels\n",
        "convergence_check"
      ],
      "metadata": {
        "colab": {
          "base_uri": "https://localhost:8080/"
        },
        "id": "3qAATiZB0XjN",
        "outputId": "e8d91a45-6484-4002-df48-2cde300c1365"
      },
      "execution_count": 16,
      "outputs": [
        {
          "output_type": "execute_result",
          "data": {
            "text/plain": [
              "matrix([[-0.0972985 ],\n",
              "        [-0.20919178],\n",
              "        [-0.20910767],\n",
              "        [-0.35196482],\n",
              "        [-0.24494025],\n",
              "        [ 0.15505975]])"
            ]
          },
          "metadata": {},
          "execution_count": 16
        }
      ]
    },
    {
      "cell_type": "markdown",
      "source": [
        "we can confirm the convergence from the above result.\n",
        "\n",
        "---\n",
        "\n"
      ],
      "metadata": {
        "id": "GpM7VNj40oen"
      }
    },
    {
      "cell_type": "markdown",
      "source": [
        "#1.5: *Determine the node labels for the unlabeled nodes v1, v2, and v3 via the energy minimization algorithm.*"
      ],
      "metadata": {
        "id": "qCeFqMoY0rmX"
      }
    },
    {
      "cell_type": "markdown",
      "source": [
        "lets first calculate the laplacian matrix for the Similarity matrix:"
      ],
      "metadata": {
        "id": "6h5Pxlmq0xfu"
      }
    },
    {
      "cell_type": "code",
      "source": [
        "laplacian_matrix = degree_matrix - adjacency_matrix\n",
        "laplacian_matrix"
      ],
      "metadata": {
        "colab": {
          "base_uri": "https://localhost:8080/"
        },
        "id": "qrtFBP_F0u5j",
        "outputId": "c25a8bf7-17b5-4f30-baff-c5c74f70a9b9"
      },
      "execution_count": 17,
      "outputs": [
        {
          "output_type": "execute_result",
          "data": {
            "text/plain": [
              "matrix([[ 3, -1,  0,  0, -1, -1],\n",
              "        [-1,  3, -1, -1,  0,  0],\n",
              "        [ 0, -1,  2, -1,  0,  0],\n",
              "        [ 0, -1, -1,  2,  0,  0],\n",
              "        [-1,  0,  0,  0,  1,  0],\n",
              "        [-1,  0,  0,  0,  0,  1]])"
            ]
          },
          "metadata": {},
          "execution_count": 17
        }
      ]
    },
    {
      "cell_type": "code",
      "source": [
        "# One-hot vector encoding of the labeled nodes\n",
        "one_hot_labels = np.matrix([\n",
        "     [0, 1],\n",
        "     [0, 1],\n",
        "     [1, 0]\n",
        "])"
      ],
      "metadata": {
        "id": "DqhiF9iI08g_"
      },
      "execution_count": 18,
      "outputs": []
    },
    {
      "cell_type": "markdown",
      "source": [
        "We will use below formula to calculate the Fu\n",
        "\n",
        "$F_{u} =-L_{uu}^{-1} L_{uu}Y_{l}$\n",
        "\n"
      ],
      "metadata": {
        "id": "4ECwF2ap1KnN"
      }
    },
    {
      "cell_type": "code",
      "source": [
        "# Calculate Fu using the energy minimization algorithm\n",
        "Fu = -1 * np.linalg.inv(laplacian_matrix[0:3, 0:3]) @ laplacian_matrix[3:6, 0:3] @ one_hot_labels\n",
        "unlabeled_node_labels = np.argmax(Fu, axis=1)\n",
        "\n",
        "# Print the results\n",
        "unlabeled_node_labels"
      ],
      "metadata": {
        "colab": {
          "base_uri": "https://localhost:8080/"
        },
        "id": "SNtaHDSE1Mcu",
        "outputId": "ba55c801-e965-4bfd-f9ab-84d607f686ed"
      },
      "execution_count": 19,
      "outputs": [
        {
          "output_type": "execute_result",
          "data": {
            "text/plain": [
              "matrix([[1],\n",
              "        [1],\n",
              "        [1]])"
            ]
          },
          "metadata": {},
          "execution_count": 19
        }
      ]
    },
    {
      "cell_type": "markdown",
      "source": [
        "The analysis reveals that all data points are categorized under the second label. Furthermore, it is observed that the algorithm successfully identifies unlabeled points without altering the labeled nodes, in contrast to the label spreading algorithm, which alters the labels of the nodes."
      ],
      "metadata": {
        "id": "xpzDj5Ig5Jnh"
      }
    }
  ]
}